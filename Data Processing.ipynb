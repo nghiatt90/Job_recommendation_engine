{
 "cells": [
  {
   "cell_type": "code",
   "execution_count": 1,
   "metadata": {},
   "outputs": [],
   "source": [
    "import os\n",
    "\n",
    "import numpy as np\n",
    "import pandas as pd"
   ]
  },
  {
   "cell_type": "code",
   "execution_count": 2,
   "metadata": {},
   "outputs": [
    {
     "name": "stderr",
     "output_type": "stream",
     "text": [
      "b'Skipping line 122433: expected 11 fields, saw 12\\n'\n",
      "b'Skipping line 602576: expected 11 fields, saw 12\\n'\n",
      "b'Skipping line 990950: expected 11 fields, saw 12\\n'\n",
      "/home/nghiatruong/.conda/envs/science/lib/python3.7/site-packages/IPython/core/interactiveshell.py:3020: DtypeWarning: Columns (8) have mixed types. Specify dtype option on import or set low_memory=False.\n",
      "  interactivity=interactivity, compiler=compiler, result=result)\n"
     ]
    }
   ],
   "source": [
    "apps = pd.read_csv('./data/apps.tsv', delimiter='\\t',encoding='utf-8')\n",
    "user_history = pd.read_csv('./data/user_history.tsv', delimiter='\\t',encoding='utf-8')\n",
    "jobs = pd.read_csv('./data/jobs.tsv', delimiter='\\t',encoding='utf-8', error_bad_lines=False)\n",
    "users = pd.read_csv('./data/users.tsv' ,delimiter='\\t',encoding='utf-8')"
   ]
  },
  {
   "cell_type": "code",
   "execution_count": 3,
   "metadata": {},
   "outputs": [
    {
     "data": {
      "text/plain": [
       "UserID             0\n",
       "ApplicationDate    0\n",
       "JobID              0\n",
       "dtype: int64"
      ]
     },
     "execution_count": 3,
     "metadata": {},
     "output_type": "execute_result"
    }
   ],
   "source": [
    "apps = apps[apps.Split == 'Train'].drop(['WindowID', 'Split'], axis=1)\n",
    "apps.isnull().sum()"
   ]
  },
  {
   "cell_type": "code",
   "execution_count": 4,
   "metadata": {},
   "outputs": [
    {
     "data": {
      "text/plain": [
       "UserID      0\n",
       "JobTitle    0\n",
       "dtype: int64"
      ]
     },
     "execution_count": 4,
     "metadata": {},
     "output_type": "execute_result"
    }
   ],
   "source": [
    "user_history = user_history[user_history.Split == 'Train'].drop(['WindowID', 'Split', 'Sequence'], axis=1).dropna()\n",
    "user_history.isnull().sum()"
   ]
  },
  {
   "cell_type": "code",
   "execution_count": 5,
   "metadata": {},
   "outputs": [
    {
     "data": {
      "text/plain": [
       "UserID                  0\n",
       "City                    0\n",
       "State                   0\n",
       "Country                 0\n",
       "DegreeType              0\n",
       "Major                   0\n",
       "TotalYearsExperience    0\n",
       "dtype: int64"
      ]
     },
     "execution_count": 5,
     "metadata": {},
     "output_type": "execute_result"
    }
   ],
   "source": [
    "users = (\n",
    "    users[(users.Split == 'Train') & (users.Country == 'US')]\n",
    "    .drop(['ZipCode',\n",
    "           'GraduationDate',\n",
    "           'WorkHistoryCount',\n",
    "           'CurrentlyEmployed',\n",
    "           'ManagedOthers',\n",
    "           'ManagedHowMany',\n",
    "           'WindowID',\n",
    "           'Split'],\n",
    "          axis=1)\n",
    "    .fillna('Not Applicable')\n",
    ")\n",
    "users.isnull().sum()"
   ]
  },
  {
   "cell_type": "code",
   "execution_count": 6,
   "metadata": {},
   "outputs": [
    {
     "data": {
      "text/plain": [
       "JobID           0\n",
       "Title           0\n",
       "Description     0\n",
       "Requirements    0\n",
       "City            0\n",
       "State           0\n",
       "Country         0\n",
       "StartDate       0\n",
       "EndDate         0\n",
       "dtype: int64"
      ]
     },
     "execution_count": 6,
     "metadata": {},
     "output_type": "execute_result"
    }
   ],
   "source": [
    "jobs = jobs[jobs.Country == 'US'].drop(['WindowID', 'Zip5'], axis=1).fillna('Not Applicable')\n",
    "jobs.isnull().sum()"
   ]
  },
  {
   "cell_type": "code",
   "execution_count": 7,
   "metadata": {},
   "outputs": [],
   "source": [
    "uids = (apps.groupby('UserID')\n",
    "            .size()\n",
    "            .reset_index(name='AppCount')\n",
    "            .sort_values('AppCount', ascending=False)[:10000]\n",
    "            .UserID.values)\n",
    "users_10k = users[users.UserID.isin(uids)].copy()"
   ]
  },
  {
   "cell_type": "code",
   "execution_count": 8,
   "metadata": {},
   "outputs": [],
   "source": [
    "jids = (apps.groupby('JobID')\n",
    "            .size()\n",
    "            .reset_index(name='AppCount')\n",
    "            .sort_values('AppCount', ascending=False)[:10000]\n",
    "            .JobID.values)\n",
    "jobs_10k = jobs[jobs.JobID.isin(jids)].copy()"
   ]
  },
  {
   "cell_type": "code",
   "execution_count": 9,
   "metadata": {},
   "outputs": [],
   "source": [
    "apps_10k = apps[apps.UserID.isin(uids) & apps.JobID.isin(jids)].copy()"
   ]
  },
  {
   "cell_type": "code",
   "execution_count": 10,
   "metadata": {},
   "outputs": [],
   "source": [
    "user_history_10k = user_history[user_history.UserID.isin(uids)].copy()\n",
    "user_history_10k['AllTitles'] = user_history_10k.groupby('UserID').transform(', '.join)\n",
    "user_history_10k.drop(['JobTitle'], axis=1, inplace=True)\n",
    "user_history_10k.drop_duplicates(inplace=True)\n",
    "users_10k = users_10k.join(user_history_10k.set_index('UserID'), on='UserID').fillna('No Experience')"
   ]
  },
  {
   "cell_type": "code",
   "execution_count": 11,
   "metadata": {},
   "outputs": [],
   "source": [
    "os.makedirs('data/processed')\n",
    "users_10k.to_csv('data/processed/users.csv', index=False)\n",
    "jobs_10k.to_csv('data/processed/jobs.csv', index=False)\n",
    "apps_10k.to_csv('data/processed/applications.csv', index=False)"
   ]
  }
 ],
 "metadata": {
  "kernelspec": {
   "display_name": "Python 3.7 (science)",
   "language": "python",
   "name": "science"
  },
  "language_info": {
   "codemirror_mode": {
    "name": "ipython",
    "version": 3
   },
   "file_extension": ".py",
   "mimetype": "text/x-python",
   "name": "python",
   "nbconvert_exporter": "python",
   "pygments_lexer": "ipython3",
   "version": "3.7.0"
  }
 },
 "nbformat": 4,
 "nbformat_minor": 2
}
